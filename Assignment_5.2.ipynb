{
 "cells": [
  {
   "cell_type": "markdown",
   "metadata": {},
   "source": [
    "### Using the following data, perform a oneway analysis of variance using α=.05. Write up the results in APA format.\n",
    "\n",
    "[Group1: 51, 45, 33, 45, 67]\n",
    "\n",
    "[Group2: 23, 43, 23, 43, 45]\n",
    "\n",
    "[Group3: 56, 76, 74, 87, 56]"
   ]
  },
  {
   "cell_type": "markdown",
   "metadata": {},
   "source": [
    " ##### Calculating the variances of Group1\n",
    " \n",
    "      value  mean   deviations    square of deviations\n",
    "   \n",
    "        51   48.2        2.8          7.84\n",
    "    \n",
    "        45   48.2       -3.2          10.24\n",
    "    \n",
    "        33   48.2      -15.2          231.04\n",
    "    \n",
    "        45   48.2       -3.2          10.24\n",
    "    \n",
    "        67   48.2       18.8          353.44"
   ]
  },
  {
   "cell_type": "markdown",
   "metadata": {},
   "source": [
    "##### Calculating the variances of Group2\n",
    "\n",
    "    value  mean   deviations   square of deviations\n",
    "    \n",
    "    23     35.4      -12.4        153.76\n",
    "    \n",
    "    43     35.4        7.6         57.76\n",
    "    \n",
    "    23     35.4      -12.4        153.76\n",
    "    \n",
    "    43     35.4        7.6         57.76\n",
    "    \n",
    "    45     35.4        9.6         92.16\n",
    "\n",
    "\n",
    " ##### Calculating the variances of Group3\n",
    "\n",
    "    value  mean   deviations   square of deviations\n",
    "    \n",
    "     56    69.8      -13.8        190.44\n",
    "        \n",
    "     76    69.8        6.2         38.44\n",
    "    \n",
    "     74    69.8        4.2         17.64\n",
    "        \n",
    "     87    69.8       17.2        295.84\n",
    "    \n",
    "     56    69.8      -13.8        190.44"
   ]
  },
  {
   "cell_type": "markdown",
   "metadata": {},
   "source": [
    "Sum of squared deviations from mean(SS) for each group:\n",
    "\n",
    "Group1 = 612.8\n",
    "\n",
    "Group2 = 515.2\n",
    "\n",
    "Group3 = 732.8"
   ]
  },
  {
   "cell_type": "markdown",
   "metadata": {},
   "source": [
    "Var(1) = 612.85−1 = 153.2 \n",
    "\n",
    "Var(2) = 515.25−1 = 128.8\n",
    "\n",
    "Var(3) = 732.85−1 = 183.2"
   ]
  },
  {
   "cell_type": "markdown",
   "metadata": {},
   "source": [
    "MS(error) = (153.2 + 128.8 + 183.2)/3 = 155.07\n",
    "\n",
    "##### Calculating the remaining error terms for the ANOVA table:\n",
    "\n",
    "df(error) = 15−3 = 12\n",
    "\n",
    "SS(error) = (155.07)(15−3) = 1860.8"
   ]
  },
  {
   "cell_type": "markdown",
   "metadata": {},
   "source": [
    "##### calculating the variance of the sample means:\n",
    "\n",
    "Grand mean = (48.2 + 35.4 + 69.8)/3 = 51.13\n",
    "\n"
   ]
  },
  {
   "cell_type": "markdown",
   "metadata": {},
   "source": [
    "    group mean     grand mean   deviations    sq deviations\n",
    "    \n",
    "     1     48.2      51.13       -2.93          8.58\n",
    "     \n",
    "     2     35.4      51.13      -15.73         247.43\n",
    "     \n",
    "     3     69.8      51.13       18.67         348.57"
   ]
  },
  {
   "cell_type": "markdown",
   "metadata": {},
   "source": [
    "Sum of squares of squared deviations(SS-means)= 8.58 + 247.43 + 348.57 = 604.58\n",
    "\n",
    "Var(means) = (604.58) / (3−1) = 302.29\n",
    "\n",
    "MS(between) = (302.29)(5) = 1511.45 \n",
    "\n",
    "Calculating the remaining between terms of the ANOVA table:\n",
    "\n",
    "df(groups) = 3−1 = 2\n",
    "\n",
    "SS(group) = (1511.45)(3−1) = 3022.9\n",
    "\n",
    "##### Test statistic and critical value\n",
    "\n",
    "F = 1511.45 / 155.07 = 9.75\n",
    "\n",
    "F(critical)(2,12) = 3.89\n",
    "\n"
   ]
  },
  {
   "cell_type": "markdown",
   "metadata": {},
   "source": [
    "##### ANOVA table\n",
    "\n",
    "       source\t  SS\t   df\t  MS\t       F\n",
    "\n",
    "        group\t 3022.9\t 2     1511.45\t 9.75\n",
    "\n",
    "        error\t 1860.8\t 12    155.07\t\n",
    "\n",
    "        total\t 4883.7"
   ]
  },
  {
   "cell_type": "markdown",
   "metadata": {},
   "source": [
    "##### Effect size\n",
    "\n",
    "η**2 = 3022.94 / 883.7 = 0.62\n",
    "\n",
    "APA writeup\n",
    "\n",
    "F(2, 12) = 9.75,  p <0.05,  η**2=0.62."
   ]
  }
 ],
 "metadata": {
  "kernelspec": {
   "display_name": "Python 3",
   "language": "python",
   "name": "python3"
  },
  "language_info": {
   "codemirror_mode": {
    "name": "ipython",
    "version": 3
   },
   "file_extension": ".py",
   "mimetype": "text/x-python",
   "name": "python",
   "nbconvert_exporter": "python",
   "pygments_lexer": "ipython3",
   "version": "3.6.4"
  }
 },
 "nbformat": 4,
 "nbformat_minor": 2
}
